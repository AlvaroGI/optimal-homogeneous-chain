{
 "cells": [
  {
   "cell_type": "markdown",
   "id": "cc358cd6",
   "metadata": {},
   "source": [
    "# Scaling of number of states"
   ]
  },
  {
   "cell_type": "markdown",
   "id": "c542f4f6",
   "metadata": {},
   "source": [
    "Here, we analyze the scaling of the number of states in the MDP, by measuring the number of states explored by our policy iteration algorithm.\n",
    "\n",
    "The figures produced in this notebook are used in our paper ([arXiv:2207.06533](https://arxiv.org/abs/2207.06533))."
   ]
  },
  {
   "cell_type": "code",
   "execution_count": 1,
   "id": "074176e6",
   "metadata": {},
   "outputs": [],
   "source": [
    "import numpy as np\n",
    "import random\n",
    "from tqdm import tqdm\n",
    "from tqdm.notebook import tqdm as tqdm_notebook\n",
    "import pickle\n",
    "from pathlib import Path\n",
    "import functools\n",
    "import os\n",
    "import time\n",
    "import datetime\n",
    "import sys\n",
    "import importlib as imp\n",
    "\n",
    "import matplotlib.pyplot as plt\n",
    "\n",
    "# Dark background?\n",
    "dark = False\n",
    "if dark==True:\n",
    "    plt.style.use('dark_background')\n",
    "else:\n",
    "    plt.style.use('default')\n",
    "\n",
    "from matplotlib import rc\n",
    "rc('text', usetex=True)\n",
    "from matplotlib import colors as pltc\n",
    "from matplotlib.cm import ScalarMappable\n",
    "import matplotlib.ticker as ticker\n",
    "\n",
    "import main\n",
    "from environment import Environment\n",
    "\n",
    "%matplotlib inline\n",
    "\n",
    "# Create figures directory if needed\n",
    "try:\n",
    "    os.mkdir('MANUSCRIPT_figs')\n",
    "except FileExistsError:\n",
    "    pass"
   ]
  },
  {
   "cell_type": "code",
   "execution_count": 2,
   "id": "7da35c63",
   "metadata": {},
   "outputs": [],
   "source": [
    "## Plot specs ##\n",
    "\n",
    "x_cm = 8\n",
    "y_cm = 5\n",
    "\n",
    "normal_fontsize = 10\n",
    "small_fontsize = 8"
   ]
  },
  {
   "cell_type": "markdown",
   "id": "101b2efe",
   "metadata": {},
   "source": [
    "<br/>\n",
    "\n",
    "<br/>\n",
    "\n",
    "\n",
    "---\n",
    "\n",
    "\n",
    "## Plots vs $n$"
   ]
  },
  {
   "cell_type": "code",
   "execution_count": 3,
   "id": "715b8097",
   "metadata": {},
   "outputs": [],
   "source": [
    "## Data ##\n",
    "p = 0.9\n",
    "p_s = 1\n",
    "cutoff = 1\n",
    "tolerance = 1e-2\n",
    "\n",
    "n_array = np.arange(3,8)"
   ]
  },
  {
   "cell_type": "code",
   "execution_count": 4,
   "id": "dbf726b7",
   "metadata": {},
   "outputs": [],
   "source": [
    "## Calculations ##\n",
    "imp.reload(main)\n",
    "n_array = np.round(n_array,0)\n",
    "\n",
    "total_states_n = []\n",
    "nonabsorbing_states_n = []\n",
    "decision_states_n = []\n",
    "\n",
    "for n in n_array:\n",
    "    if main.check_policyiter_data(n, p, p_s, cutoff, tolerance):\n",
    "        _, state_info, _ = main.load_policyiter_data(n, p, p_s, cutoff, tolerance)\n",
    "        c_total, c_nonabs, c_decision, _, _, _ = main.classify_states_policyiter(state_info)\n",
    "        total_states_n += [c_total]\n",
    "        nonabsorbing_states_n += [c_nonabs]\n",
    "        decision_states_n += [c_decision]\n",
    "    else:\n",
    "        print('Data missing: n=%s, p=%.3f, p_s=%.3f, tc=%s, tolerance=%s'%(n,p,p_s,cutoff,tolerance))"
   ]
  },
  {
   "cell_type": "code",
   "execution_count": 5,
   "id": "644d3c25",
   "metadata": {},
   "outputs": [
    {
     "data": {
      "image/png": "[encoded data removed]",
      "text/plain": [
       "<Figure size 226.772x141.732 with 1 Axes>"
      ]
     },
     "metadata": {
      "needs_background": "light"
     },
     "output_type": "display_data"
    }
   ],
   "source": [
    "## Plot number of states ##\n",
    "\n",
    "fig, ax = plt.subplots(figsize=(x_cm/2.54, y_cm/2.54))\n",
    "\n",
    "cmap = plt.cm.get_cmap('viridis')\n",
    "if dark==True:\n",
    "    colors = [cmap(0.6), cmap(0.8), cmap(0.99)]\n",
    "    colorbound = 'w'\n",
    "else:\n",
    "    colors = [cmap(0), cmap(0.45), cmap(0.8)]\n",
    "    colorbound = 'k'\n",
    "\n",
    "# Lower bound\n",
    "low_bound_n = 1 + (n_array**2 - n_array - 4)*cutoff/2\n",
    "low_bound_n += (n_array**2 - n_array - 6)*(n_array-2)*cutoff**2/6\n",
    "low_bound_n += cutoff**(n_array-1)\n",
    "\n",
    "plt.plot(n_array, low_bound_n,\n",
    "         label=r'Lower bound', linestyle='--', color=colorbound, zorder=1)\n",
    "\n",
    "# Values from the algorithm\n",
    "style_index = 0\n",
    "plt.plot(n_array, total_states_n, label=r'Total',\n",
    "         color=colors[style_index], zorder=-style_index)\n",
    "\n",
    "#style_index = 1\n",
    "#plt.plot(n_array, nonabsorbing_states_n, label=r'Non-absorbing',\n",
    "#         color=colors[style_index], zorder=-style_index)\n",
    "\n",
    "style_index = 2\n",
    "plt.plot(n_array, decision_states_n, label=r'Decision',\n",
    "         color=colors[style_index], zorder=-style_index)\n",
    "\n",
    "# Plot specs\n",
    "plt.xlabel(r'$n$', fontsize=normal_fontsize)\n",
    "plt.ylabel(r'Number of states', fontsize=normal_fontsize)\n",
    "ax.tick_params(labelsize=small_fontsize)\n",
    "plt.legend(fontsize=small_fontsize)\n",
    "\n",
    "plt.xlim(np.min(n_array), np.max(n_array))\n",
    "\n",
    "plt.yscale('log')\n",
    "\n",
    "if dark==True:\n",
    "    filename = 'MANUSCRIPT_figs/DARK_states_n_p%.3f_ps%.3f_tc%s_tol%s.pdf'%(p, p_s, cutoff, tolerance)\n",
    "else:\n",
    "    filename = 'MANUSCRIPT_figs/states_n_p%.3f_ps%.3f_tc%s_tol%s.pdf'%(p, p_s, cutoff, tolerance)\n",
    "plt.savefig(filename, dpi=300, bbox_inches='tight')"
   ]
  },
  {
   "cell_type": "markdown",
   "id": "0c32cf93",
   "metadata": {},
   "source": [
    "<br/>\n",
    "\n",
    "<br/>\n",
    "\n",
    "\n",
    "---\n",
    "\n",
    "\n",
    "## Plots vs $t_\\mathrm{cut}$"
   ]
  },
  {
   "cell_type": "code",
   "execution_count": 6,
   "id": "53070314",
   "metadata": {},
   "outputs": [],
   "source": [
    "## Data ##\n",
    "n = 4\n",
    "p = 0.9\n",
    "p_s = 1\n",
    "tolerance = 1e-2\n",
    "\n",
    "cutoff_array = np.arange(1,16)"
   ]
  },
  {
   "cell_type": "code",
   "execution_count": 7,
   "id": "42001920",
   "metadata": {},
   "outputs": [],
   "source": [
    "## Calculations ##\n",
    "imp.reload(main)\n",
    "cutoff_array = np.round(cutoff_array,0)\n",
    "\n",
    "total_states_tc = []\n",
    "nonabsorbing_states_tc = []\n",
    "decision_states_tc = []\n",
    "\n",
    "for cutoff in cutoff_array:\n",
    "    if main.check_policyiter_data(n, p, p_s, cutoff, tolerance):\n",
    "        _, state_info, _ = main.load_policyiter_data(n, p, p_s, cutoff, tolerance)\n",
    "        c_total, c_nonabs, c_decision, _, _, _ = main.classify_states_policyiter(state_info)\n",
    "        total_states_tc += [c_total]\n",
    "        nonabsorbing_states_tc += [c_nonabs]\n",
    "        decision_states_tc += [c_decision]\n",
    "    else:\n",
    "        print('Data missing: n=%s, p=%.3f, p_s=%.3f, tc=%s, tolerance=%s'%(n,p,p_s,cutoff,tolerance))"
   ]
  },
  {
   "cell_type": "code",
   "execution_count": 8,
   "id": "624b8079",
   "metadata": {},
   "outputs": [
    {
     "data": {
      "image/png": "[encoded data removed]",
      "text/plain": [
       "<Figure size 226.772x141.732 with 1 Axes>"
      ]
     },
     "metadata": {
      "needs_background": "light"
     },
     "output_type": "display_data"
    }
   ],
   "source": [
    "## Plot number of states ##\n",
    "\n",
    "fig, ax = plt.subplots(figsize=(x_cm/2.54, y_cm/2.54))\n",
    "\n",
    "cmap = plt.cm.get_cmap('viridis')\n",
    "if dark==True:\n",
    "    colors = [cmap(0.6), cmap(0.8), cmap(0.99)]\n",
    "    colorbound = 'w'\n",
    "else:\n",
    "    colors = [cmap(0), cmap(0.45), cmap(0.8)]\n",
    "    colorbound = 'k'    \n",
    "\n",
    "# Lower bound\n",
    "low_bound_tc = 1 + (n**2 - n - 4)*cutoff_array/2 + (n**2 - n - 6)*(n-2)*cutoff_array**2/6\n",
    "low_bound_tc += cutoff_array**(n-1)\n",
    "\n",
    "plt.plot(cutoff_array, low_bound_tc,\n",
    "         label=r'Lower bound', linestyle='--', color=colorbound, zorder=1)\n",
    "\n",
    "# Values from the algorithm\n",
    "style_index = 0\n",
    "plt.plot(cutoff_array, total_states_tc, label=r'Total',\n",
    "         color=colors[style_index], zorder=-style_index)\n",
    "\n",
    "#style_index = 1\n",
    "#plt.plot(n_array, nonabsorbing_states_n, label=r'Non-absorbing',\n",
    "#         color=colors[style_index], zorder=-style_index)\n",
    "\n",
    "style_index = 2\n",
    "plt.plot(cutoff_array, decision_states_tc, label=r'Decision',\n",
    "         color=colors[style_index], zorder=-style_index)\n",
    "\n",
    "# Plot specs\n",
    "plt.xlabel(r'$t_\\mathrm{cut}$', fontsize=normal_fontsize)\n",
    "plt.ylabel(r'Number of states', fontsize=normal_fontsize)\n",
    "ax.tick_params(labelsize=small_fontsize)\n",
    "plt.legend(fontsize=small_fontsize)\n",
    "\n",
    "ax.set_xticks(np.arange(1,16,2))\n",
    "# Minor x-tick frequency\n",
    "x_minor_intervals = 2\n",
    "ax.xaxis.set_minor_locator(ticker.AutoMinorLocator(x_minor_intervals))\n",
    "\n",
    "plt.xlim(np.min(cutoff_array), np.max(cutoff_array))\n",
    "\n",
    "plt.yscale('log')\n",
    "\n",
    "if dark==True:\n",
    "    filename = 'MANUSCRIPT_figs/DARK_states_tc_n%d_p%.3f_ps%.3f_tol%s.pdf'%(n, p, p_s, tolerance)\n",
    "else:\n",
    "    filename = 'MANUSCRIPT_figs/states_tc_n%d_p%.3f_ps%.3f_tol%s.pdf'%(n, p, p_s, tolerance)\n",
    "plt.savefig(filename, dpi=300, bbox_inches='tight')"
   ]
  }
 ],
 "metadata": {
  "kernelspec": {
   "display_name": "Python 3",
   "language": "python",
   "name": "python3"
  },
  "language_info": {
   "codemirror_mode": {
    "name": "ipython",
    "version": 3
   },
   "file_extension": ".py",
   "mimetype": "text/x-python",
   "name": "python",
   "nbconvert_exporter": "python",
   "pygments_lexer": "ipython3",
   "version": "3.8.8"
  }
 },
 "nbformat": 4,
 "nbformat_minor": 5
}
