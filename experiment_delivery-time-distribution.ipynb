{
 "cells": [
  {
   "cell_type": "markdown",
   "id": "56d2d637",
   "metadata": {},
   "source": [
    "# Delivery time distribution of an optimal policy"
   ]
  },
  {
   "cell_type": "markdown",
   "id": "b49c8fb0",
   "metadata": {},
   "source": [
    "Here, we calculate the delivery time distribution of an optimal policy. We employ Monte Carlo simulations to estimate the probability distributions.\n",
    "\n",
    "The figures produced in this notebook are used in our paper ([arXiv:2207.06533](https://arxiv.org/abs/2207.06533))."
   ]
  },
  {
   "cell_type": "code",
   "execution_count": 1,
   "id": "1f64c54f",
   "metadata": {},
   "outputs": [],
   "source": [
    "import numpy as np\n",
    "import random\n",
    "from tqdm import tqdm\n",
    "from tqdm.notebook import tqdm as tqdm_notebook\n",
    "import pickle\n",
    "from pathlib import Path\n",
    "import functools\n",
    "import os\n",
    "import time\n",
    "import datetime\n",
    "import sys\n",
    "import importlib as imp\n",
    "\n",
    "import matplotlib.pyplot as plt\n",
    "import matplotlib.ticker as ticker\n",
    "\n",
    "# Dark background?\n",
    "dark = False\n",
    "if dark==True:\n",
    "    plt.style.use('dark_background')\n",
    "else:\n",
    "    plt.style.use('default')\n",
    "\n",
    "# Latex\n",
    "from matplotlib import rc\n",
    "rc('text', usetex=True)\n",
    "from matplotlib import colors as pltc\n",
    "from matplotlib.cm import ScalarMappable\n",
    "\n",
    "import main\n",
    "from environment import Environment\n",
    "\n",
    "# Save figures in the notebook with decent quality\n",
    "%matplotlib inline\n",
    "import matplotlib as mpl\n",
    "mpl.rcParams['figure.dpi']= 100"
   ]
  },
  {
   "cell_type": "markdown",
   "id": "9bfd132c",
   "metadata": {},
   "source": [
    "<br/>\n",
    "\n",
    "<br/>\n",
    "\n",
    "\n",
    "---\n",
    "\n",
    "# $n=5$, $p=0.5$, $p_\\mathrm{s}=0.5$, $t_\\mathrm{cut}=2$"
   ]
  },
  {
   "cell_type": "code",
   "execution_count": 2,
   "id": "73f48579",
   "metadata": {},
   "outputs": [],
   "source": [
    "### INPUTS ###\n",
    "n = 5\n",
    "p = 0.5\n",
    "p_s = 0.5\n",
    "cutoff = 2\n",
    "policy = 'optimal'\n",
    "\n",
    "# Numerical\n",
    "randomseed = 2\n",
    "tolerance = 1e-5\n",
    "N_samples = int(1e5)\n",
    "\n",
    "# Plot specs\n",
    "fontsizes = 10\n",
    "fontsizes_ticks = fontsizes-1\n",
    "x_cm = 8\n",
    "y_cm = 5\n",
    "\n",
    "savefig = True"
   ]
  },
  {
   "cell_type": "code",
   "execution_count": 3,
   "id": "4decf6e0",
   "metadata": {},
   "outputs": [],
   "source": [
    "_, state_info, _ = main.load_policyiter_data(n, p, p_s, cutoff, tolerance)\n",
    "\n",
    "if main.check_sim_data(policy, n, p, p_s, cutoff,\n",
    "                              N_samples, randomseed, tolerance):\n",
    "    data = main.load_sim_data(policy, n, p, p_s, cutoff,\n",
    "                              N_samples, randomseed, tolerance)\n",
    "else:\n",
    "    main.simulate_environment(policy, n, p, p_s, cutoff,\n",
    "                              N_samples, randomseed, tolerance,\n",
    "                              progress_bar='notebook', savedata=True)\n",
    "    data = main.load_sim_data(policy, n, p, p_s, cutoff,\n",
    "                              N_samples, randomseed, tolerance)"
   ]
  },
  {
   "cell_type": "code",
   "execution_count": 4,
   "id": "efa0b86b",
   "metadata": {},
   "outputs": [
    {
     "name": "stdout",
     "output_type": "stream",
     "text": [
      "Expected delivery time optimal policy: 26.78\n",
      "Simulation 95% interval of confidence: (26.53, 26.85)\n"
     ]
    }
   ],
   "source": [
    "print('Expected delivery time optimal policy: %.2f'%(-(state_info[0]['value']+1)))\n",
    "print('Simulation 95%% interval of confidence: (%.2f, %.2f)'%(data['avg']-2*data['std']/(data['N_samples']**0.5),\n",
    "                                                        data['avg']+2*data['std']/(data['N_samples']**0.5)))"
   ]
  },
  {
   "cell_type": "code",
   "execution_count": 5,
   "id": "def6719f",
   "metadata": {},
   "outputs": [
    {
     "data": {
      "image/png": "[encoded data removed]",
      "text/plain": [
       "<Figure size 314.961x196.85 with 1 Axes>"
      ]
     },
     "metadata": {
      "needs_background": "light"
     },
     "output_type": "display_data"
    }
   ],
   "source": [
    "## PLOT ##\n",
    "fig, ax = plt.subplots(figsize=(x_cm/2.54, y_cm/2.54))\n",
    "\n",
    "if dark==True:\n",
    "    col = 'w'\n",
    "else:\n",
    "    col = 'k'\n",
    "\n",
    "plt.bar(data['bins'][:-1]+0.5, data['hist'], color=col)#, width = 0.5)\n",
    "plt.plot([data['avg'],data['avg']],[0,1], color='tab:orange', linewidth=1)\n",
    "\n",
    "plt.xlabel(r'$\\tau$')\n",
    "plt.ylabel(r'$P(T=\\tau)$')\n",
    "\n",
    "plt.xlim(0,125)\n",
    "plt.ylim(0,0.06)\n",
    "\n",
    "#x_minor_intervals = 10 # Number of minor intervals between two major ticks               \n",
    "#ax.xaxis.set_minor_locator(ticker.AutoMinorLocator(x_minor_intervals))\n",
    "ax.tick_params(labelsize=fontsizes_ticks)\n",
    "\n",
    "if savefig:\n",
    "    filename = ('MANUSCRIPT_figs/delivery-time-distribution_%s_n%s'+\n",
    "                '_p%.3f_ps%.3f_tcut%d_Nsamples%d_randseed%d.pdf')%(policy, n, p, p_s,\n",
    "                                              cutoff, N_samples, randomseed)\n",
    "    plt.savefig(filename, dpi=300, bbox_inches='tight')\n",
    "else:\n",
    "    plt.show()"
   ]
  },
  {
   "cell_type": "markdown",
   "id": "91fe9e60",
   "metadata": {},
   "source": [
    "<br/>\n",
    "\n",
    "<br/>\n",
    "\n",
    "\n",
    "---\n",
    "\n",
    "# $n=5$, $p=0.9$, $p_\\mathrm{s}=0.5$, $t_\\mathrm{cut}=2$"
   ]
  },
  {
   "cell_type": "code",
   "execution_count": 6,
   "id": "4a50080d",
   "metadata": {},
   "outputs": [],
   "source": [
    "### INPUTS ###\n",
    "n = 5\n",
    "p = 0.9\n",
    "p_s = 0.5\n",
    "cutoff = 2\n",
    "policy = 'optimal'\n",
    "\n",
    "# Numerical\n",
    "randomseed = 2\n",
    "tolerance = 1e-5\n",
    "N_samples = int(1e5)\n",
    "\n",
    "# Plot specs\n",
    "fontsizes = 10\n",
    "fontsizes_ticks = fontsizes-1\n",
    "x_cm = 8\n",
    "y_cm = 5\n",
    "\n",
    "savefig = True"
   ]
  },
  {
   "cell_type": "code",
   "execution_count": 7,
   "id": "569e9fe3",
   "metadata": {},
   "outputs": [],
   "source": [
    "_, state_info, _ = main.load_policyiter_data(n, p, p_s, cutoff, tolerance)\n",
    "\n",
    "if main.check_sim_data(policy, n, p, p_s, cutoff,\n",
    "                              N_samples, randomseed, tolerance):\n",
    "    data = main.load_sim_data(policy, n, p, p_s, cutoff,\n",
    "                              N_samples, randomseed, tolerance)\n",
    "else:\n",
    "    main.simulate_environment(policy, n, p, p_s, cutoff,\n",
    "                              N_samples, randomseed, tolerance,\n",
    "                              progress_bar='notebook', savedata=True)\n",
    "    data = main.load_sim_data(policy, n, p, p_s, cutoff,\n",
    "                              N_samples, randomseed, tolerance)"
   ]
  },
  {
   "cell_type": "code",
   "execution_count": 8,
   "id": "cbfed5d2",
   "metadata": {},
   "outputs": [
    {
     "name": "stdout",
     "output_type": "stream",
     "text": [
      "Expected delivery time optimal policy: 8.32\n",
      "Simulation 95% interval of confidence: (8.25, 8.34)\n"
     ]
    }
   ],
   "source": [
    "print('Expected delivery time optimal policy: %.2f'%(-(state_info[0]['value']+1)))\n",
    "print('Simulation 95%% interval of confidence: (%.2f, %.2f)'%(data['avg']-2*data['std']/(data['N_samples']**0.5),\n",
    "                                                        data['avg']+2*data['std']/(data['N_samples']**0.5)))"
   ]
  },
  {
   "cell_type": "code",
   "execution_count": 9,
   "id": "f4f50969",
   "metadata": {},
   "outputs": [
    {
     "data": {
      "image/png": "[encoded data removed]",
      "text/plain": [
       "<Figure size 314.961x196.85 with 1 Axes>"
      ]
     },
     "metadata": {
      "needs_background": "light"
     },
     "output_type": "display_data"
    }
   ],
   "source": [
    "## PLOT ##\n",
    "fig, ax = plt.subplots(figsize=(x_cm/2.54, y_cm/2.54))\n",
    "\n",
    "if dark==True:\n",
    "    col = 'w'\n",
    "else:\n",
    "    col = 'k'\n",
    "\n",
    "plt.bar(data['bins'][:-1]+0.5, data['hist'], color=col)#, width = 0.5)\n",
    "plt.plot([data['avg'],data['avg']],[0,1], color='tab:orange', linewidth=1)\n",
    "\n",
    "plt.xlabel(r'$\\tau$')\n",
    "plt.ylabel(r'$P(T=\\tau)$')\n",
    "\n",
    "plt.xlim(0,50)\n",
    "plt.ylim(0,0.2)\n",
    "\n",
    "x_minor_intervals = 10 # Number of minor intervals between two major ticks               \n",
    "ax.xaxis.set_minor_locator(ticker.AutoMinorLocator(x_minor_intervals))\n",
    "ax.tick_params(labelsize=fontsizes_ticks)\n",
    "\n",
    "if savefig:\n",
    "    filename = ('MANUSCRIPT_figs/delivery-time-distribution_%s_n%s'+\n",
    "                '_p%.3f_ps%.3f_tcut%d_Nsamples%d_randseed%d.pdf')%(policy, n, p, p_s,\n",
    "                                              cutoff, N_samples, randomseed)\n",
    "    plt.savefig(filename, dpi=300, bbox_inches='tight')\n",
    "else:\n",
    "    plt.show()"
   ]
  }
 ],
 "metadata": {
  "kernelspec": {
   "display_name": "Python 3",
   "language": "python",
   "name": "python3"
  },
  "language_info": {
   "codemirror_mode": {
    "name": "ipython",
    "version": 3
   },
   "file_extension": ".py",
   "mimetype": "text/x-python",
   "name": "python",
   "nbconvert_exporter": "python",
   "pygments_lexer": "ipython3",
   "version": "3.8.8"
  }
 },
 "nbformat": 4,
 "nbformat_minor": 5
}
