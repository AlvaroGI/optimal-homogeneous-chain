{
 "cells": [
  {
   "cell_type": "markdown",
   "id": "04273035",
   "metadata": {},
   "source": [
    "# Nested scheme is closer to optimal than swap-asap\n",
    "\n",
    "The nested policy is a swap-asap policy, except in full states (where every pair of neighbors shares an entangled link), in which acts following a nested scheme. In a five node chain, this nested scheme means that only nodes two and four perform a swap in full states, while node three does not.\n",
    "\n",
    "In this notebook, we show that a nested policy can be significantly better than swap-asap when swaps are probabilistic.\n",
    "To do that, we calculate the expected delivery time of both policies in a five-node chain, and show that the expected delivery time of a nested policy is larger than that of the swap-asap policy, by more than a 10%.\n",
    "\n",
    "This is used to support part of the discussion about full states in our paper ([arXiv:2207.06533](https://arxiv.org/abs/2207.06533))."
   ]
  },
  {
   "cell_type": "code",
   "execution_count": 15,
   "id": "cdeeb9c8",
   "metadata": {},
   "outputs": [],
   "source": [
    "# General\n",
    "import numpy as np\n",
    "import os\n",
    "from tqdm.notebook import tqdm as tqdmn\n",
    "import importlib as imp\n",
    "import main as main\n",
    "\n",
    "# Plots\n",
    "import matplotlib.pyplot as plt\n",
    "from matplotlib import rc\n",
    "rc('text', usetex=True)\n",
    "plt.rcParams.update({\n",
    "    'text.usetex': True,\n",
    "    'text.latex.preamble': r'\\usepackage{amsfonts}'\n",
    "})\n",
    "\n",
    "# Create figures directory if necessary\n",
    "try:\n",
    "    os.mkdir('MANUSCRIPT_figs')\n",
    "except FileExistsError:\n",
    "    pass\n",
    "\n",
    "# Save figures in the notebook with decent quality\n",
    "%matplotlib inline\n",
    "import matplotlib as mpl\n",
    "mpl.rcParams['figure.dpi']= 150"
   ]
  },
  {
   "cell_type": "markdown",
   "id": "0f755396",
   "metadata": {},
   "source": [
    "<br/>\n",
    "\n",
    "<br/>\n",
    "\n",
    "\n",
    "---\n",
    "\n",
    "# Deterministic swaps ($p=0.9$, $p_\\mathrm{s}=1$, $t_\\mathrm{cut}=2$)"
   ]
  },
  {
   "cell_type": "markdown",
   "id": "4cd217a3",
   "metadata": {},
   "source": [
    "When swaps are deterministic, the swap-asap policy is always better than the nested policy, since it does not make sense to delay swaps in a full state.\n",
    "\n",
    "The expected delivery times with this set of parameters are not discussed in our paper."
   ]
  },
  {
   "cell_type": "code",
   "execution_count": 16,
   "id": "d18aeb24",
   "metadata": {},
   "outputs": [],
   "source": [
    "### PARAMETERS ###\n",
    "n = 5\n",
    "p = 0.9\n",
    "p_s = 1\n",
    "cutoff = 2\n",
    "\n",
    "# Numerical\n",
    "tolerance = 1e-7\n",
    "randomseed = 2"
   ]
  },
  {
   "cell_type": "code",
   "execution_count": 17,
   "id": "8c9aa1e4",
   "metadata": {
    "scrolled": false
   },
   "outputs": [
    {
     "name": "stdout",
     "output_type": "stream",
     "text": [
      "                                                                                \r"
     ]
    }
   ],
   "source": [
    "### CALCULATE NESTED ###\n",
    "imp.reload(main)\n",
    "\n",
    "nested = True\n",
    "\n",
    "_, state_info_nested, _ = main.policy_eval_swapasap(n, p, p_s, cutoff, tolerance=tolerance,\n",
    "                                                    progress=True, savedata=False, nested=nested)"
   ]
  },
  {
   "cell_type": "code",
   "execution_count": 19,
   "id": "bdbd346d",
   "metadata": {},
   "outputs": [],
   "source": [
    "### CALCULATE SWAP-ASAP ###\n",
    "imp.reload(main)\n",
    "\n",
    "nested = False\n",
    "\n",
    "if not main.check_swapasap_data(n, p, p_s, cutoff, tolerance):\n",
    "    _, state_info_swapasap, _ = main.policy_eval_swapasap(n, p, p_s, cutoff, tolerance=tolerance,\n",
    "                                                          progress=True, savedata=True, nested=nested)\n",
    "else:\n",
    "    _, state_info_swapasap, _ = main.load_swapasap_data(n, p, p_s, cutoff, tolerance)"
   ]
  },
  {
   "cell_type": "code",
   "execution_count": 9,
   "id": "f41109de",
   "metadata": {},
   "outputs": [
    {
     "name": "stdout",
     "output_type": "stream",
     "text": [
      "Swap-asap: 1.3887703070084898\n",
      "Nested: 2.0710744648559687\n"
     ]
    }
   ],
   "source": [
    "print('Swap-asap:',-(state_info_swapasap[0]['value']+1))\n",
    "print('Nested:',-(state_info_nested[0]['value']+1))"
   ]
  },
  {
   "cell_type": "markdown",
   "id": "4db1d108",
   "metadata": {},
   "source": [
    "<br/>\n",
    "\n",
    "<br/>\n",
    "\n",
    "\n",
    "---\n",
    "\n",
    "# Probabilistic swaps ($p=0.9$, $p_\\mathrm{s}=0.5$, $t_\\mathrm{cut}=2$)"
   ]
  },
  {
   "cell_type": "markdown",
   "id": "f37c336f",
   "metadata": {},
   "source": [
    "When swaps are probabilistic, the nested policy can be significantly faster than the swap-asap policy, as in the example below.\n",
    "\n",
    "The expected delivery times with this set of parameters **are** discussed in our paper."
   ]
  },
  {
   "cell_type": "code",
   "execution_count": 10,
   "id": "aa12f90a",
   "metadata": {},
   "outputs": [],
   "source": [
    "### PARAMETERS ###\n",
    "n = 5\n",
    "p = 0.9\n",
    "p_s = 0.5\n",
    "cutoff = 2\n",
    "\n",
    "# Numerical\n",
    "tolerance = 1e-7\n",
    "randomseed = 2"
   ]
  },
  {
   "cell_type": "code",
   "execution_count": 11,
   "id": "8ae98744",
   "metadata": {
    "scrolled": false
   },
   "outputs": [
    {
     "name": "stdout",
     "output_type": "stream",
     "text": [
      "                                                                                \r"
     ]
    }
   ],
   "source": [
    "### CALCULATE NESTED ###\n",
    "imp.reload(main)\n",
    "\n",
    "nested = True\n",
    "\n",
    "_, state_info_nested05, _ = main.policy_eval_swapasap(n, p, p_s, cutoff, tolerance=tolerance,\n",
    "                                                    progress=True, savedata=False, nested=nested)"
   ]
  },
  {
   "cell_type": "code",
   "execution_count": 12,
   "id": "55a6d87a",
   "metadata": {},
   "outputs": [
    {
     "name": "stdout",
     "output_type": "stream",
     "text": [
      "                                                                                \r"
     ]
    }
   ],
   "source": [
    "### CALCULATE SWAP-ASAP ###\n",
    "imp.reload(main)\n",
    "\n",
    "nested = False\n",
    "    \n",
    "if not main.check_swapasap_data(n, p, p_s, cutoff, tolerance):\n",
    "    _, state_info_swapasap05, _ = main.policy_eval_swapasap(n, p, p_s, cutoff, tolerance=tolerance,\n",
    "                                                          progress=True, savedata=False, nested=nested)\n",
    "else:\n",
    "    _, state_info_swapasap05, _ = main.load_swapasap_data(n, p, p_s, cutoff, tolerance)"
   ]
  },
  {
   "cell_type": "code",
   "execution_count": 14,
   "id": "84e14ddb",
   "metadata": {},
   "outputs": [
    {
     "name": "stdout",
     "output_type": "stream",
     "text": [
      "Swap-asap (p_s=0.5): 9.346904215852948\n",
      "Nested (p_s=0.5): 8.343780862127756\n"
     ]
    }
   ],
   "source": [
    "print('Swap-asap (p_s=%s):'%p_s,-(state_info_swapasap05[0]['value']+1))\n",
    "print('Nested (p_s=%s):'%p_s,-(state_info_nested05[0]['value']+1))"
   ]
  }
 ],
 "metadata": {
  "kernelspec": {
   "display_name": "Python 3",
   "language": "python",
   "name": "python3"
  },
  "language_info": {
   "codemirror_mode": {
    "name": "ipython",
    "version": 3
   },
   "file_extension": ".py",
   "mimetype": "text/x-python",
   "name": "python",
   "nbconvert_exporter": "python",
   "pygments_lexer": "ipython3",
   "version": "3.8.8"
  }
 },
 "nbformat": 4,
 "nbformat_minor": 5
}
