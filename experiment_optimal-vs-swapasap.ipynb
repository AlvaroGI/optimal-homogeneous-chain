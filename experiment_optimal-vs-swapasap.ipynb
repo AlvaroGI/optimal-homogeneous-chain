{
 "cells": [
  {
   "cell_type": "markdown",
   "id": "56d2d637",
   "metadata": {},
   "source": [
    "# Optimal vs swap-asap policy in terms of expected delivery time"
   ]
  },
  {
   "cell_type": "markdown",
   "id": "b49c8fb0",
   "metadata": {},
   "source": [
    "Here, we compare the expected delivery time of optimal policies versus that of the swap-asap policy.\n",
    "\n",
    "The figures produced in this notebook are used in our paper ([arXiv:2207.06533](https://arxiv.org/abs/2207.06533))."
   ]
  },
  {
   "cell_type": "code",
   "execution_count": 1,
   "id": "1f64c54f",
   "metadata": {},
   "outputs": [],
   "source": [
    "import numpy as np\n",
    "import random\n",
    "from tqdm import tqdm\n",
    "from tqdm.notebook import tqdm as tqdm_notebook\n",
    "import pickle\n",
    "from pathlib import Path\n",
    "import functools\n",
    "import os\n",
    "import time\n",
    "import datetime\n",
    "import sys\n",
    "import importlib as imp\n",
    "\n",
    "import matplotlib.pyplot as plt\n",
    "\n",
    "# Dark background?\n",
    "dark = False\n",
    "if dark==True:\n",
    "    plt.style.use('dark_background')\n",
    "else:\n",
    "    plt.style.use('default')\n",
    "\n",
    "# Latex\n",
    "from matplotlib import rc\n",
    "rc('text', usetex=True)\n",
    "from matplotlib import colors as pltc\n",
    "from matplotlib.cm import ScalarMappable\n",
    "\n",
    "import main\n",
    "from environment import Environment\n",
    "\n",
    "# Save figures in the notebook with decent quality\n",
    "%matplotlib inline\n",
    "import matplotlib as mpl\n",
    "mpl.rcParams['figure.dpi']= 100"
   ]
  },
  {
   "cell_type": "markdown",
   "id": "9bfd132c",
   "metadata": {},
   "source": [
    "<br/>\n",
    "\n",
    "<br/>\n",
    "\n",
    "\n",
    "---\n",
    "\n",
    "# $n=4$, $p_\\mathrm{s}=1$"
   ]
  },
  {
   "cell_type": "code",
   "execution_count": 2,
   "id": "73f48579",
   "metadata": {},
   "outputs": [],
   "source": [
    "### INPUTS ###\n",
    "n = 4\n",
    "p = 0.5\n",
    "p_s = 1\n",
    "cutoff = 2\n",
    "\n",
    "# Arrays\n",
    "varying_params = ['p','cutoff']\n",
    "varying_arrays = [np.round(np.arange(0.3,1,0.1),3),\n",
    "                  np.round(np.arange(2,7,1),0)]\n",
    "\n",
    "# Numerical\n",
    "tolerance = 1e-7\n",
    "randomseed = 2\n",
    "solver = 'valueiter'"
   ]
  },
  {
   "cell_type": "code",
   "execution_count": 3,
   "id": "f8516460",
   "metadata": {
    "scrolled": false
   },
   "outputs": [
    {
     "data": {
      "application/vnd.jupyter.widget-view+json": {
       "model_id": "",
       "version_major": 2,
       "version_minor": 0
      },
      "text/plain": [
       "--Scanning p...:   0%|          | 0/7 [00:00<?, ?it/s]"
      ]
     },
     "metadata": {},
     "output_type": "display_data"
    },
    {
     "data": {
      "application/vnd.jupyter.widget-view+json": {
       "model_id": "",
       "version_major": 2,
       "version_minor": 0
      },
      "text/plain": [
       "----Scanning cutoff...:   0%|          | 0/5 [00:00<?, ?it/s]"
      ]
     },
     "metadata": {},
     "output_type": "display_data"
    },
    {
     "data": {
      "application/vnd.jupyter.widget-view+json": {
       "model_id": "",
       "version_major": 2,
       "version_minor": 0
      },
      "text/plain": [
       "----Scanning cutoff...:   0%|          | 0/5 [00:00<?, ?it/s]"
      ]
     },
     "metadata": {},
     "output_type": "display_data"
    },
    {
     "data": {
      "application/vnd.jupyter.widget-view+json": {
       "model_id": "",
       "version_major": 2,
       "version_minor": 0
      },
      "text/plain": [
       "----Scanning cutoff...:   0%|          | 0/5 [00:00<?, ?it/s]"
      ]
     },
     "metadata": {},
     "output_type": "display_data"
    },
    {
     "data": {
      "application/vnd.jupyter.widget-view+json": {
       "model_id": "",
       "version_major": 2,
       "version_minor": 0
      },
      "text/plain": [
       "----Scanning cutoff...:   0%|          | 0/5 [00:00<?, ?it/s]"
      ]
     },
     "metadata": {},
     "output_type": "display_data"
    },
    {
     "data": {
      "application/vnd.jupyter.widget-view+json": {
       "model_id": "",
       "version_major": 2,
       "version_minor": 0
      },
      "text/plain": [
       "----Scanning cutoff...:   0%|          | 0/5 [00:00<?, ?it/s]"
      ]
     },
     "metadata": {},
     "output_type": "display_data"
    },
    {
     "data": {
      "application/vnd.jupyter.widget-view+json": {
       "model_id": "",
       "version_major": 2,
       "version_minor": 0
      },
      "text/plain": [
       "----Scanning cutoff...:   0%|          | 0/5 [00:00<?, ?it/s]"
      ]
     },
     "metadata": {},
     "output_type": "display_data"
    },
    {
     "data": {
      "application/vnd.jupyter.widget-view+json": {
       "model_id": "",
       "version_major": 2,
       "version_minor": 0
      },
      "text/plain": [
       "----Scanning cutoff...:   0%|          | 0/5 [00:00<?, ?it/s]"
      ]
     },
     "metadata": {},
     "output_type": "display_data"
    }
   ],
   "source": [
    "imp.reload(main)\n",
    "\n",
    "surf4 = main.gatherdata_optimal_vs_swapasap(n, p, p_s, cutoff, tolerance, randomseed,\n",
    "                                            varying_params, varying_arrays, solver=solver,\n",
    "                                            progress_bar='notebook')"
   ]
  },
  {
   "cell_type": "code",
   "execution_count": 4,
   "id": "a783ef22",
   "metadata": {
    "scrolled": false
   },
   "outputs": [
    {
     "data": {
      "text/plain": [
       "array([[1.76465453e+00, 1.39510113e+00, 1.01950094e+00, 7.38541448e-01,\n",
       "        5.34596185e-01],\n",
       "       [1.08584547e+00, 7.52939371e-01, 4.93460395e-01, 3.13135305e-01,\n",
       "        1.94979772e-01],\n",
       "       [6.78246184e-01, 3.87927911e-01, 2.08701148e-01, 1.08569899e-01,\n",
       "        5.54365415e-02],\n",
       "       [3.82723538e-01, 1.71121969e-01, 7.16247064e-02, 2.91917520e-02,\n",
       "        1.17661957e-02],\n",
       "       [1.61601743e-01, 5.18103942e-02, 1.58553152e-02, 4.78594561e-03,\n",
       "        1.43779241e-03],\n",
       "       [3.80356318e-02, 7.83300691e-03, 1.57550381e-03, 3.15398735e-04,\n",
       "        6.25532724e-05],\n",
       "       [2.14534540e-03, 2.16171761e-04, 2.19461405e-05, 2.08787991e-06,\n",
       "        1.41327601e-07]])"
      ]
     },
     "execution_count": 4,
     "metadata": {},
     "output_type": "execute_result"
    }
   ],
   "source": [
    "surf4"
   ]
  },
  {
   "cell_type": "code",
   "execution_count": 5,
   "id": "2d960d7e",
   "metadata": {},
   "outputs": [
    {
     "data": {
      "image/png": "[encoded data removed]",
      "text/plain": [
       "<Figure size 354.331x157.48 with 2 Axes>"
      ]
     },
     "metadata": {
      "needs_background": "light"
     },
     "output_type": "display_data"
    }
   ],
   "source": [
    "imp.reload(main)\n",
    "\n",
    "main.makefig_optimal_vs_swapasap(n, p, p_s, cutoff, tolerance, randomseed,\n",
    "                                 varying_params, varying_arrays, surf4, solver=solver,\n",
    "                                 cbar_max=2, annotate00=True, annotate11=False, savefig=True)"
   ]
  },
  {
   "cell_type": "markdown",
   "id": "01230ed3",
   "metadata": {},
   "source": [
    "<br/>\n",
    "\n",
    "<br/>\n",
    "\n",
    "\n",
    "---\n",
    "\n",
    "# $n=4$, $p_\\mathrm{s}=0.5$"
   ]
  },
  {
   "cell_type": "code",
   "execution_count": 6,
   "id": "103fba2a",
   "metadata": {},
   "outputs": [],
   "source": [
    "### INPUTS ###\n",
    "n = 4\n",
    "p = 0.5\n",
    "p_s = 0.5\n",
    "cutoff = 2\n",
    "\n",
    "# Arrays\n",
    "varying_params = ['p','cutoff']\n",
    "varying_arrays = [np.round(np.arange(0.3,1,0.1),3),\n",
    "                  np.round(np.arange(2,7,1),0)]\n",
    "\n",
    "# Numerical\n",
    "tolerance = 1e-7\n",
    "randomseed = 2\n",
    "solver = 'valueiter'"
   ]
  },
  {
   "cell_type": "code",
   "execution_count": 7,
   "id": "e692890e",
   "metadata": {
    "scrolled": false
   },
   "outputs": [
    {
     "data": {
      "application/vnd.jupyter.widget-view+json": {
       "model_id": "",
       "version_major": 2,
       "version_minor": 0
      },
      "text/plain": [
       "--Scanning p...:   0%|          | 0/7 [00:00<?, ?it/s]"
      ]
     },
     "metadata": {},
     "output_type": "display_data"
    },
    {
     "data": {
      "application/vnd.jupyter.widget-view+json": {
       "model_id": "",
       "version_major": 2,
       "version_minor": 0
      },
      "text/plain": [
       "----Scanning cutoff...:   0%|          | 0/5 [00:00<?, ?it/s]"
      ]
     },
     "metadata": {},
     "output_type": "display_data"
    },
    {
     "data": {
      "application/vnd.jupyter.widget-view+json": {
       "model_id": "",
       "version_major": 2,
       "version_minor": 0
      },
      "text/plain": [
       "----Scanning cutoff...:   0%|          | 0/5 [00:00<?, ?it/s]"
      ]
     },
     "metadata": {},
     "output_type": "display_data"
    },
    {
     "data": {
      "application/vnd.jupyter.widget-view+json": {
       "model_id": "",
       "version_major": 2,
       "version_minor": 0
      },
      "text/plain": [
       "----Scanning cutoff...:   0%|          | 0/5 [00:00<?, ?it/s]"
      ]
     },
     "metadata": {},
     "output_type": "display_data"
    },
    {
     "data": {
      "application/vnd.jupyter.widget-view+json": {
       "model_id": "",
       "version_major": 2,
       "version_minor": 0
      },
      "text/plain": [
       "----Scanning cutoff...:   0%|          | 0/5 [00:00<?, ?it/s]"
      ]
     },
     "metadata": {},
     "output_type": "display_data"
    },
    {
     "data": {
      "application/vnd.jupyter.widget-view+json": {
       "model_id": "",
       "version_major": 2,
       "version_minor": 0
      },
      "text/plain": [
       "----Scanning cutoff...:   0%|          | 0/5 [00:00<?, ?it/s]"
      ]
     },
     "metadata": {},
     "output_type": "display_data"
    },
    {
     "data": {
      "application/vnd.jupyter.widget-view+json": {
       "model_id": "",
       "version_major": 2,
       "version_minor": 0
      },
      "text/plain": [
       "----Scanning cutoff...:   0%|          | 0/5 [00:00<?, ?it/s]"
      ]
     },
     "metadata": {},
     "output_type": "display_data"
    },
    {
     "data": {
      "application/vnd.jupyter.widget-view+json": {
       "model_id": "",
       "version_major": 2,
       "version_minor": 0
      },
      "text/plain": [
       "----Scanning cutoff...:   0%|          | 0/5 [00:00<?, ?it/s]"
      ]
     },
     "metadata": {},
     "output_type": "display_data"
    }
   ],
   "source": [
    "imp.reload(main)\n",
    "\n",
    "surf405 = main.gatherdata_optimal_vs_swapasap(n, p, p_s, cutoff, tolerance, randomseed,\n",
    "                                              varying_params, varying_arrays, solver=solver,\n",
    "                                              progress_bar='notebook')"
   ]
  },
  {
   "cell_type": "code",
   "execution_count": 8,
   "id": "c6cc0a49",
   "metadata": {
    "scrolled": false
   },
   "outputs": [
    {
     "data": {
      "text/plain": [
       "array([[ 1.74482685e+00,  1.11918928e+00,  6.74178587e-01,\n",
       "         4.03858641e-01,  2.67687109e-01],\n",
       "       [ 1.02580720e+00,  5.63735880e-01,  2.82800565e-01,\n",
       "         1.43105238e-01,  7.50205711e-02],\n",
       "       [ 5.34062588e-01,  2.34555889e-01,  9.47460344e-02,\n",
       "         4.01190848e-02,  1.80567765e-02],\n",
       "       [ 2.28568476e-01,  7.33494254e-02,  2.31086146e-02,\n",
       "         8.04157132e-03,  3.01097818e-03],\n",
       "       [ 6.89479804e-02,  1.45123068e-02,  3.42235967e-03,\n",
       "         9.30807977e-04,  2.68562391e-04],\n",
       "       [ 1.05058667e-02,  1.24387508e-03,  2.00866166e-04,\n",
       "         3.63430755e-05,  5.00947474e-06],\n",
       "       [ 2.86871320e-04,  1.23011339e-05, -1.18953987e-06,\n",
       "        -2.81968675e-06, -3.31891303e-06]])"
      ]
     },
     "execution_count": 8,
     "metadata": {},
     "output_type": "execute_result"
    }
   ],
   "source": [
    "surf405"
   ]
  },
  {
   "cell_type": "code",
   "execution_count": 9,
   "id": "01fcac23",
   "metadata": {},
   "outputs": [
    {
     "data": {
      "image/png": "[encoded data removed]",
      "text/plain": [
       "<Figure size 354.331x157.48 with 2 Axes>"
      ]
     },
     "metadata": {
      "needs_background": "light"
     },
     "output_type": "display_data"
    }
   ],
   "source": [
    "imp.reload(main)\n",
    "\n",
    "main.makefig_optimal_vs_swapasap(n, p, p_s, cutoff, tolerance, randomseed,\n",
    "                                 varying_params, varying_arrays, surf405, solver=solver,\n",
    "                                 cbar_max=2, annotate00=True, annotate11=False, savefig=True)"
   ]
  },
  {
   "cell_type": "markdown",
   "id": "50c18b67",
   "metadata": {},
   "source": [
    "<br/>\n",
    "\n",
    "<br/>\n",
    "\n",
    "\n",
    "---\n",
    "\n",
    "# $n=5$, $p_\\mathrm{s}=1$"
   ]
  },
  {
   "cell_type": "code",
   "execution_count": 10,
   "id": "2b041565",
   "metadata": {},
   "outputs": [],
   "source": [
    "### INPUTS ###\n",
    "n = 5\n",
    "p = 1\n",
    "p_s = 1\n",
    "cutoff = 2\n",
    "\n",
    "# Arrays\n",
    "varying_params = ['p','cutoff']\n",
    "varying_arrays = [np.round(np.arange(0.3,1,0.1),3),\n",
    "                  [2,3,4,5,6]]\n",
    "\n",
    "# Numerical\n",
    "tolerance = 1e-7\n",
    "randomseed = 2\n",
    "solver = 'valueiter'"
   ]
  },
  {
   "cell_type": "code",
   "execution_count": 11,
   "id": "ded93b54",
   "metadata": {
    "scrolled": false
   },
   "outputs": [
    {
     "data": {
      "application/vnd.jupyter.widget-view+json": {
       "model_id": "",
       "version_major": 2,
       "version_minor": 0
      },
      "text/plain": [
       "--Scanning p...:   0%|          | 0/7 [00:00<?, ?it/s]"
      ]
     },
     "metadata": {},
     "output_type": "display_data"
    },
    {
     "data": {
      "application/vnd.jupyter.widget-view+json": {
       "model_id": "",
       "version_major": 2,
       "version_minor": 0
      },
      "text/plain": [
       "----Scanning cutoff...:   0%|          | 0/5 [00:00<?, ?it/s]"
      ]
     },
     "metadata": {},
     "output_type": "display_data"
    },
    {
     "data": {
      "application/vnd.jupyter.widget-view+json": {
       "model_id": "",
       "version_major": 2,
       "version_minor": 0
      },
      "text/plain": [
       "----Scanning cutoff...:   0%|          | 0/5 [00:00<?, ?it/s]"
      ]
     },
     "metadata": {},
     "output_type": "display_data"
    },
    {
     "data": {
      "application/vnd.jupyter.widget-view+json": {
       "model_id": "",
       "version_major": 2,
       "version_minor": 0
      },
      "text/plain": [
       "----Scanning cutoff...:   0%|          | 0/5 [00:00<?, ?it/s]"
      ]
     },
     "metadata": {},
     "output_type": "display_data"
    },
    {
     "data": {
      "application/vnd.jupyter.widget-view+json": {
       "model_id": "",
       "version_major": 2,
       "version_minor": 0
      },
      "text/plain": [
       "----Scanning cutoff...:   0%|          | 0/5 [00:00<?, ?it/s]"
      ]
     },
     "metadata": {},
     "output_type": "display_data"
    },
    {
     "data": {
      "application/vnd.jupyter.widget-view+json": {
       "model_id": "",
       "version_major": 2,
       "version_minor": 0
      },
      "text/plain": [
       "----Scanning cutoff...:   0%|          | 0/5 [00:00<?, ?it/s]"
      ]
     },
     "metadata": {},
     "output_type": "display_data"
    },
    {
     "data": {
      "application/vnd.jupyter.widget-view+json": {
       "model_id": "",
       "version_major": 2,
       "version_minor": 0
      },
      "text/plain": [
       "----Scanning cutoff...:   0%|          | 0/5 [00:00<?, ?it/s]"
      ]
     },
     "metadata": {},
     "output_type": "display_data"
    },
    {
     "data": {
      "application/vnd.jupyter.widget-view+json": {
       "model_id": "",
       "version_major": 2,
       "version_minor": 0
      },
      "text/plain": [
       "----Scanning cutoff...:   0%|          | 0/5 [00:00<?, ?it/s]"
      ]
     },
     "metadata": {},
     "output_type": "display_data"
    }
   ],
   "source": [
    "imp.reload(main)\n",
    "\n",
    "surf5 = main.gatherdata_optimal_vs_swapasap(n, p, p_s, cutoff, tolerance, randomseed,\n",
    "                                            varying_params, varying_arrays, solver=solver,\n",
    "                                            progress_bar='notebook')"
   ]
  },
  {
   "cell_type": "code",
   "execution_count": 12,
   "id": "5aa7e4b1",
   "metadata": {
    "scrolled": true
   },
   "outputs": [
    {
     "data": {
      "text/plain": [
       "array([[5.24772887e+00, 3.94387718e+00, 2.93955421e+00, 2.11597502e+00,\n",
       "        1.55931093e+00],\n",
       "       [3.17267445e+00, 2.22061103e+00, 1.45913567e+00, 9.34438622e-01,\n",
       "        6.01799219e-01],\n",
       "       [1.89261324e+00, 1.11943935e+00, 6.09968382e-01, 3.40460383e-01,\n",
       "        1.78425424e-01],\n",
       "       [1.05360646e+00, 4.78566089e-01, 2.10631737e-01, 8.96740246e-02,\n",
       "        3.75479077e-02],\n",
       "       [4.47955678e-01, 1.41925206e-01, 4.68298612e-02, 1.44059519e-02,\n",
       "        4.49751616e-03],\n",
       "       [1.15940628e-01, 2.40611610e-02, 5.13794271e-03, 1.04749685e-03,\n",
       "        2.12676650e-04],\n",
       "       [7.58146753e-03, 8.07644060e-04, 8.37771796e-05, 8.35180411e-06,\n",
       "        7.78507443e-07]])"
      ]
     },
     "execution_count": 12,
     "metadata": {},
     "output_type": "execute_result"
    }
   ],
   "source": [
    "surf5"
   ]
  },
  {
   "cell_type": "code",
   "execution_count": 13,
   "id": "3eae71d8",
   "metadata": {},
   "outputs": [
    {
     "data": {
      "image/png": "[encoded data removed]",
      "text/plain": [
       "<Figure size 354.331x157.48 with 2 Axes>"
      ]
     },
     "metadata": {
      "needs_background": "light"
     },
     "output_type": "display_data"
    }
   ],
   "source": [
    "imp.reload(main)\n",
    "\n",
    "main.makefig_optimal_vs_swapasap(n, p, p_s, cutoff, tolerance, randomseed,\n",
    "                                 varying_params, varying_arrays, surf5, solver=solver,\n",
    "                                 cbar_max=15, annotate00=True, annotate11=False, savefig=True)"
   ]
  },
  {
   "cell_type": "markdown",
   "id": "6b402626",
   "metadata": {},
   "source": [
    "<br/>\n",
    "\n",
    "<br/>\n",
    "\n",
    "\n",
    "---\n",
    "\n",
    "# $n=5$, $p_\\mathrm{s}=0.5$"
   ]
  },
  {
   "cell_type": "code",
   "execution_count": 14,
   "id": "a7080d45",
   "metadata": {},
   "outputs": [],
   "source": [
    "### INPUTS ###\n",
    "n = 5\n",
    "p = 1\n",
    "p_s = 0.5\n",
    "cutoff = 2\n",
    "\n",
    "# Arrays\n",
    "varying_params = ['p','cutoff']\n",
    "varying_arrays = [np.arange(0.3,1,0.1),\n",
    "                  [2,3,4,5,6]]\n",
    "\n",
    "# Numerical\n",
    "tolerance = 1e-7\n",
    "randomseed = 2\n",
    "solver = 'valueiter'"
   ]
  },
  {
   "cell_type": "code",
   "execution_count": 15,
   "id": "a96f5992",
   "metadata": {
    "scrolled": false
   },
   "outputs": [
    {
     "data": {
      "application/vnd.jupyter.widget-view+json": {
       "model_id": "",
       "version_major": 2,
       "version_minor": 0
      },
      "text/plain": [
       "--Scanning p...:   0%|          | 0/7 [00:00<?, ?it/s]"
      ]
     },
     "metadata": {},
     "output_type": "display_data"
    },
    {
     "data": {
      "application/vnd.jupyter.widget-view+json": {
       "model_id": "",
       "version_major": 2,
       "version_minor": 0
      },
      "text/plain": [
       "----Scanning cutoff...:   0%|          | 0/5 [00:00<?, ?it/s]"
      ]
     },
     "metadata": {},
     "output_type": "display_data"
    },
    {
     "data": {
      "application/vnd.jupyter.widget-view+json": {
       "model_id": "",
       "version_major": 2,
       "version_minor": 0
      },
      "text/plain": [
       "----Scanning cutoff...:   0%|          | 0/5 [00:00<?, ?it/s]"
      ]
     },
     "metadata": {},
     "output_type": "display_data"
    },
    {
     "data": {
      "application/vnd.jupyter.widget-view+json": {
       "model_id": "",
       "version_major": 2,
       "version_minor": 0
      },
      "text/plain": [
       "----Scanning cutoff...:   0%|          | 0/5 [00:00<?, ?it/s]"
      ]
     },
     "metadata": {},
     "output_type": "display_data"
    },
    {
     "data": {
      "application/vnd.jupyter.widget-view+json": {
       "model_id": "",
       "version_major": 2,
       "version_minor": 0
      },
      "text/plain": [
       "----Scanning cutoff...:   0%|          | 0/5 [00:00<?, ?it/s]"
      ]
     },
     "metadata": {},
     "output_type": "display_data"
    },
    {
     "data": {
      "application/vnd.jupyter.widget-view+json": {
       "model_id": "",
       "version_major": 2,
       "version_minor": 0
      },
      "text/plain": [
       "----Scanning cutoff...:   0%|          | 0/5 [00:00<?, ?it/s]"
      ]
     },
     "metadata": {},
     "output_type": "display_data"
    },
    {
     "data": {
      "application/vnd.jupyter.widget-view+json": {
       "model_id": "",
       "version_major": 2,
       "version_minor": 0
      },
      "text/plain": [
       "----Scanning cutoff...:   0%|          | 0/5 [00:00<?, ?it/s]"
      ]
     },
     "metadata": {},
     "output_type": "display_data"
    },
    {
     "data": {
      "application/vnd.jupyter.widget-view+json": {
       "model_id": "",
       "version_major": 2,
       "version_minor": 0
      },
      "text/plain": [
       "----Scanning cutoff...:   0%|          | 0/5 [00:00<?, ?it/s]"
      ]
     },
     "metadata": {},
     "output_type": "display_data"
    }
   ],
   "source": [
    "imp.reload(main)\n",
    "\n",
    "surf505 = main.gatherdata_optimal_vs_swapasap(n, p, p_s, cutoff, tolerance, randomseed,\n",
    "                                              varying_params, varying_arrays, solver=solver,\n",
    "                                              progress_bar='notebook')"
   ]
  },
  {
   "cell_type": "code",
   "execution_count": 16,
   "id": "c57178cf",
   "metadata": {},
   "outputs": [
    {
     "data": {
      "text/plain": [
       "array([[ 5.94584895,  5.74647513,  5.77060981,  6.12083133,  6.79964543],\n",
       "       [ 5.35836847,  5.709167  ,  6.38392597,  7.36537036,  8.61093327],\n",
       "       [ 5.27870097,  6.43107664,  7.63047548,  9.02929346, 10.45456048],\n",
       "       [ 5.92532729,  7.81992798,  9.35833739, 10.73132699, 11.86804256],\n",
       "       [ 7.43832746,  9.56252453, 10.96148924, 11.98292832, 12.68772725],\n",
       "       [ 9.72738741, 11.21155114, 12.00805727, 12.40435655, 12.61433877],\n",
       "       [12.38834413, 13.07067389, 13.15733554, 13.16735441, 13.16845787]])"
      ]
     },
     "execution_count": 16,
     "metadata": {},
     "output_type": "execute_result"
    }
   ],
   "source": [
    "surf505"
   ]
  },
  {
   "cell_type": "code",
   "execution_count": 17,
   "id": "b85af36e",
   "metadata": {},
   "outputs": [
    {
     "data": {
      "image/png": "[encoded data removed]",
      "text/plain": [
       "<Figure size 354.331x157.48 with 2 Axes>"
      ]
     },
     "metadata": {
      "needs_background": "light"
     },
     "output_type": "display_data"
    }
   ],
   "source": [
    "imp.reload(main)\n",
    "\n",
    "main.makefig_optimal_vs_swapasap(n, p, p_s, cutoff, tolerance, randomseed,\n",
    "                                 varying_params, varying_arrays, surf505, solver=solver,\n",
    "                                 cbar_max=15, annotate00=True, annotate11=True, savefig=True)"
   ]
  },
  {
   "cell_type": "markdown",
   "id": "fc2307c3",
   "metadata": {},
   "source": [
    "<br/>\n",
    "\n",
    "<br/>\n",
    "\n",
    "\n",
    "---\n",
    "\n",
    "# Increasing $n$ ($p_\\mathrm{s}=1$, many $p$)"
   ]
  },
  {
   "cell_type": "code",
   "execution_count": 18,
   "id": "a00ac023",
   "metadata": {},
   "outputs": [],
   "source": [
    "### INPUTS ###\n",
    "n_array = [3,4,5,6]\n",
    "p_array = np.round(np.arange(0.3,0.9,0.1),2)\n",
    "p_s = 1\n",
    "cutoff = 2\n",
    "\n",
    "# Numerical\n",
    "tolerance = 1e-7\n",
    "randomseed = 2\n",
    "solver = 'valueiter'\n",
    "\n",
    "# Plot specs\n",
    "fontsizes = 10\n",
    "fontsizes_ticks = fontsizes-1\n",
    "x_cm = 8\n",
    "y_cm = 5\n",
    "\n",
    "savefig = True"
   ]
  },
  {
   "cell_type": "code",
   "execution_count": 19,
   "id": "9be54db4",
   "metadata": {
    "scrolled": false
   },
   "outputs": [],
   "source": [
    "## CALCULATE DATA ##\n",
    "imp.reload(main)\n",
    "\n",
    "T_diff_array = []\n",
    "\n",
    "for idx0, p in enumerate(p_array):\n",
    "    T_diff_array += [[]]\n",
    "    for n in n_array:\n",
    "        # Optimal policy\n",
    "        if solver == 'valueiter':\n",
    "            try:\n",
    "                data = main.load_valueiter_data(n, p, p_s, cutoff, tolerance, randomseed)\n",
    "                T_opt = data['values'][0]\n",
    "            except: # If data does not exist\n",
    "                T_opt = None\n",
    "        elif solver == 'policyiter':\n",
    "            try:\n",
    "                _, state_info, _ = main.load_policyiter_data(n, p, p_s, cutoff, tolerance)\n",
    "                T_opt = -(state_info[0]['value']+1)\n",
    "            except: # If data does not exist\n",
    "                T_opt = None\n",
    "        else:\n",
    "            raise ValueError('Unknown solver')\n",
    "\n",
    "        # Swap-asap policy\n",
    "        try:\n",
    "            _, state_info, _ = main.load_swapasap_data(n, p, p_s, cutoff, tolerance)\n",
    "            T_swap = -(state_info[0]['value']+1)\n",
    "        except: # If data does not exist\n",
    "            T_swap = None\n",
    "\n",
    "        if T_swap!=None and T_opt!=None:\n",
    "            T_diff_array[idx0] += [(T_swap-T_opt) / T_opt * 100]\n",
    "        else: # If data does not exist\n",
    "            T_diff_array[idx0] += [None]"
   ]
  },
  {
   "cell_type": "code",
   "execution_count": 20,
   "id": "5360492e",
   "metadata": {},
   "outputs": [
    {
     "data": {
      "image/png": "[encoded data removed]",
      "text/plain": [
       "<Figure size 314.961x196.85 with 1 Axes>"
      ]
     },
     "metadata": {
      "needs_background": "light"
     },
     "output_type": "display_data"
    }
   ],
   "source": [
    "## PLOT ##\n",
    "fig, ax = plt.subplots(figsize=(x_cm/2.54, y_cm/2.54))\n",
    "\n",
    "linestyles = ['--','-']\n",
    "\n",
    "if dark == True:\n",
    "    cmap = plt.cm.get_cmap('viridis')\n",
    "    colors = [cmap(i) for i in np.linspace(0.3,1,7)]\n",
    "else:\n",
    "    cmap = plt.cm.get_cmap('Greys')\n",
    "    colors = [cmap(i) for i in np.flip(np.linspace(0.3,1,7))]\n",
    "\n",
    "for idx0, p in enumerate(p_array):\n",
    "    if p == 0.3 or p == 0.9:\n",
    "        lab = r'$p=%s$'%(p)\n",
    "    else:\n",
    "        lab = ''\n",
    "    plt.plot(n_array, T_diff_array[idx0], label=lab,\n",
    "             linestyle='-', color=colors[idx0])\n",
    "\n",
    "plt.xlabel(r'$\\mathrm{Number\\;of\\;nodes}$', fontsize=fontsizes)\n",
    "plt.ylabel(r'$\\frac{T_\\mathrm{swap}-T_\\mathrm{opt}}{T_\\mathrm{opt}}$', fontsize=fontsizes)\n",
    "\n",
    "plt.xlim(3,6)\n",
    "xticks = [3,4,5,6]\n",
    "ax.set_xticks(xticks)\n",
    "plt.ylim(0,35)\n",
    "yticks = [0,10,20,30]\n",
    "ax.set_yticks(yticks)\n",
    "ax.set_yticklabels([r'${:.0f}\\%$'.format(i) for i in yticks])\n",
    "ax.tick_params(labelsize=fontsizes_ticks)\n",
    "\n",
    "plt.legend(loc='upper left')\n",
    "\n",
    "if savefig:\n",
    "    if dark == True:\n",
    "        filename = ('MANUSCRIPT_figs/DARK_advantageVSn_p%s-%s_ps%s_tcut%d_'+\n",
    "                    'randseed%d.pdf')%(p_array[0],p_array[-1],p_s, cutoff, randomseed)\n",
    "    else:\n",
    "        filename = ('MANUSCRIPT_figs/advantageVSn_p%s-%s_ps%s_tcut%d_'+\n",
    "                    'randseed%d.pdf')%(p_array[0],p_array[-1],p_s, cutoff, randomseed)\n",
    "    plt.savefig(filename, dpi=300, bbox_inches='tight')\n",
    "else:\n",
    "    print('p_s = %s'%p_s)\n",
    "    plt.show()"
   ]
  },
  {
   "cell_type": "markdown",
   "id": "21d6160a",
   "metadata": {},
   "source": [
    "<br/>\n",
    "\n",
    "<br/>\n",
    "\n",
    "\n",
    "---\n",
    "\n",
    "# Increasing $n$ ($p_\\mathrm{s}=0.5$, many $p$)"
   ]
  },
  {
   "cell_type": "code",
   "execution_count": 21,
   "id": "5ccc362e",
   "metadata": {},
   "outputs": [],
   "source": [
    "### INPUTS ###\n",
    "n_array = [3,4,5,6]\n",
    "p_array = np.round(np.arange(0.3,0.9,0.1),2)\n",
    "p_s = 0.5\n",
    "cutoff = 2\n",
    "\n",
    "# Numerical\n",
    "tolerance = 1e-7\n",
    "randomseed = 2\n",
    "solver = 'valueiter'\n",
    "\n",
    "# Plot specs\n",
    "fontsizes = 10\n",
    "fontsizes_ticks = fontsizes-1\n",
    "x_cm = 8\n",
    "y_cm = 5\n",
    "\n",
    "savefig = True"
   ]
  },
  {
   "cell_type": "code",
   "execution_count": 22,
   "id": "b4e5e18b",
   "metadata": {
    "scrolled": false
   },
   "outputs": [],
   "source": [
    "## CALCULATE DATA ##\n",
    "imp.reload(main)\n",
    "\n",
    "T_diff_array = []\n",
    "\n",
    "for idx0, p in enumerate(p_array):\n",
    "    T_diff_array += [[]]\n",
    "    for n in n_array:\n",
    "        # Optimal policy\n",
    "        if solver == 'valueiter':\n",
    "            try:\n",
    "                data = main.load_valueiter_data(n, p, p_s, cutoff, tolerance, randomseed)\n",
    "                T_opt = data['values'][0]\n",
    "            except: # If data does not exist\n",
    "                T_opt = None\n",
    "        elif solver == 'policyiter':\n",
    "            try:\n",
    "                _, state_info, _ = main.load_policyiter_data(n, p, p_s, cutoff, tolerance)\n",
    "                T_opt = -(state_info[0]['value']+1)\n",
    "            except: # If data does not exist\n",
    "                T_opt = None\n",
    "        else:\n",
    "            raise ValueError('Unknown solver')\n",
    "\n",
    "        # Swap-asap policy\n",
    "        try:\n",
    "            _, state_info, _ = main.load_swapasap_data(n, p, p_s, cutoff, tolerance)\n",
    "            T_swap = -(state_info[0]['value']+1)\n",
    "        except: # If data does not exist\n",
    "            T_swap = None\n",
    "\n",
    "        if T_swap!=None and T_opt!=None:\n",
    "            T_diff_array[idx0] += [(T_swap-T_opt) / T_opt * 100]\n",
    "        else: # If data does not exist\n",
    "            T_diff_array[idx0] += [None]"
   ]
  },
  {
   "cell_type": "code",
   "execution_count": 23,
   "id": "b38b7e48",
   "metadata": {},
   "outputs": [
    {
     "data": {
      "image/png": "[encoded data removed]",
      "text/plain": [
       "<Figure size 314.961x196.85 with 1 Axes>"
      ]
     },
     "metadata": {
      "needs_background": "light"
     },
     "output_type": "display_data"
    }
   ],
   "source": [
    "## PLOT ##\n",
    "fig, ax = plt.subplots(figsize=(x_cm/2.54, y_cm/2.54))\n",
    "\n",
    "linestyles = ['--','-']\n",
    "\n",
    "if dark == True:\n",
    "    cmap = plt.cm.get_cmap('viridis')\n",
    "    colors = [cmap(i) for i in np.linspace(0.3,1,7)]\n",
    "else:\n",
    "    cmap = plt.cm.get_cmap('Greys')\n",
    "    colors = [cmap(i) for i in np.flip(np.linspace(0.3,1,7))]\n",
    "\n",
    "for idx0, p in enumerate(p_array):\n",
    "    if p == 0.3 or p == 0.9:\n",
    "        lab = r'$p=%s$'%(p)\n",
    "    else:\n",
    "        lab = ''\n",
    "    plt.plot(n_array, T_diff_array[idx0], label=lab,\n",
    "             linestyle='-', color=colors[idx0], zorder=-idx0)\n",
    "\n",
    "plt.xlabel(r'$\\mathrm{Number\\;of\\;nodes}$', fontsize=fontsizes)\n",
    "plt.ylabel(r'$\\frac{T_\\mathrm{swap}-T_\\mathrm{opt}}{T_\\mathrm{opt}}$', fontsize=fontsizes)\n",
    "\n",
    "plt.xlim(3,6)\n",
    "xticks = [3,4,5,6]\n",
    "ax.set_xticks(xticks)\n",
    "plt.ylim(0,35)\n",
    "yticks = [0,10,20,30]\n",
    "ax.set_yticks(yticks)\n",
    "ax.set_yticklabels([r'${:.0f}\\%$'.format(i) for i in yticks])\n",
    "ax.tick_params(labelsize=fontsizes_ticks)\n",
    "\n",
    "plt.legend()\n",
    "\n",
    "if savefig:\n",
    "    if dark == True:\n",
    "        filename = ('MANUSCRIPT_figs/DARK_advantageVSn_p%s-%s_ps%s_tcut%d_'+\n",
    "                    'randseed%d.pdf')%(p_array[0],p_array[-1],p_s, cutoff, randomseed)\n",
    "    else:\n",
    "        filename = ('MANUSCRIPT_figs/advantageVSn_p%s-%s_ps%s_tcut%d_'+\n",
    "                    'randseed%d.pdf')%(p_array[0],p_array[-1],p_s, cutoff, randomseed)\n",
    "    plt.savefig(filename, dpi=300, bbox_inches='tight')\n",
    "else:\n",
    "    print('p_s = %s'%p_s)\n",
    "    plt.show()"
   ]
  },
  {
   "cell_type": "markdown",
   "id": "f418e03d",
   "metadata": {},
   "source": [
    "# Advantage vs $p$ for $n=4,5,6$ and $p_\\text{s}=1$"
   ]
  },
  {
   "cell_type": "code",
   "execution_count": 24,
   "id": "c05e539d",
   "metadata": {},
   "outputs": [],
   "source": [
    "### INPUTS ###\n",
    "n_array = [4,5,6]\n",
    "p_array = np.round(np.arange(0.3,0.9,0.1),2)\n",
    "p_s = 1\n",
    "cutoff = 2\n",
    "\n",
    "# Numerical\n",
    "tolerance = 1e-7\n",
    "randomseed = 2\n",
    "solver = 'valueiter'\n",
    "\n",
    "# Plot specs\n",
    "fontsizes = 10\n",
    "fontsizes_ticks = fontsizes-1\n",
    "x_cm = 8\n",
    "y_cm = 5\n",
    "\n",
    "savefig = True"
   ]
  },
  {
   "cell_type": "code",
   "execution_count": 25,
   "id": "9ae7a2f3",
   "metadata": {
    "scrolled": false
   },
   "outputs": [],
   "source": [
    "## CALCULATE DATA ##\n",
    "imp.reload(main)\n",
    "\n",
    "T_diff_array = []\n",
    "\n",
    "for idx1, n in enumerate(n_array):\n",
    "    T_diff_array += [[]]\n",
    "    for p in p_array:\n",
    "        # Optimal policy\n",
    "        if solver == 'valueiter':\n",
    "            try:\n",
    "                data = main.load_valueiter_data(n, p, p_s, cutoff, tolerance, randomseed)\n",
    "                T_opt = data['values'][0]\n",
    "            except: # If data does not exist\n",
    "                T_opt = None\n",
    "        elif solver == 'policyiter':\n",
    "            try:\n",
    "                _, state_info, _ = main.load_policyiter_data(n, p, p_s, cutoff, tolerance)\n",
    "                T_opt = -(state_info[0]['value']+1)\n",
    "            except: # If data does not exist\n",
    "                T_opt = None\n",
    "        else:\n",
    "            raise ValueError('Unknown solver')\n",
    "\n",
    "        # Swap-asap policy\n",
    "        try:\n",
    "            _, state_info, _ = main.load_swapasap_data(n, p, p_s, cutoff, tolerance)\n",
    "            T_swap = -(state_info[0]['value']+1)\n",
    "        except: # If data does not exist\n",
    "            T_swap = None\n",
    "\n",
    "        if T_swap!=None and T_opt!=None:\n",
    "            T_diff_array[idx1] += [(T_swap-T_opt) / T_opt * 100]\n",
    "        else: # If data does not exist\n",
    "            T_diff_array[idx1] += [None]"
   ]
  },
  {
   "cell_type": "code",
   "execution_count": 26,
   "id": "f1519bcf",
   "metadata": {},
   "outputs": [
    {
     "data": {
      "image/png": "[encoded data removed]",
      "text/plain": [
       "<Figure size 314.961x196.85 with 1 Axes>"
      ]
     },
     "metadata": {
      "needs_background": "light"
     },
     "output_type": "display_data"
    }
   ],
   "source": [
    "## PLOT ##\n",
    "fig, ax = plt.subplots(figsize=(x_cm/2.54, y_cm/2.54))\n",
    "\n",
    "cmap = plt.cm.get_cmap('Greys')\n",
    "colors = [cmap(i) for i in np.linspace(0.3,1,3)]\n",
    "\n",
    "for idx1, n in enumerate(n_array):\n",
    "    plt.plot(p_array, T_diff_array[idx1], label=r'$n=%s$'%(n),\n",
    "             color=colors[idx1])\n",
    "\n",
    "\n",
    "plt.xlabel(r'$p$', fontsize=fontsizes)\n",
    "plt.ylabel(r'$\\frac{T_\\mathrm{swap}-T_\\mathrm{opt}}{T_\\mathrm{opt}}$', fontsize=fontsizes)\n",
    "\n",
    "yticks = [0,10,20,30]\n",
    "plt.ylim(yticks[0], yticks[-1])\n",
    "plt.xlim(0.3,0.9)\n",
    "\n",
    "ax.set_yticks(yticks)\n",
    "ax.set_yticklabels([r'${:.0f}\\%$'.format(i) for i in yticks])\n",
    "ax.tick_params(labelsize=fontsizes_ticks)\n",
    "\n",
    "plt.legend(loc='upper left')\n",
    "\n",
    "if savefig:\n",
    "    filename = ('MANUSCRIPT_figs/advantageVSp_ps%s_tcut%d_'+\n",
    "                'randseed%d.pdf')%(p_s, cutoff, randomseed)\n",
    "    plt.savefig(filename, dpi=300, bbox_inches='tight')\n",
    "else:\n",
    "    print('p_s = %s'%p_s)\n",
    "    plt.show()"
   ]
  },
  {
   "cell_type": "markdown",
   "id": "0e1aea87",
   "metadata": {},
   "source": [
    "# Advantage vs $p$ for $n=4,5,6$ and $p_\\text{s}=0.5$"
   ]
  },
  {
   "cell_type": "code",
   "execution_count": 27,
   "id": "582e2558",
   "metadata": {},
   "outputs": [],
   "source": [
    "### INPUTS ###\n",
    "n_array = [4,5,6]\n",
    "p_array = np.round(np.arange(0.3,0.9,0.1),2)\n",
    "p_s = 0.5\n",
    "cutoff = 2\n",
    "\n",
    "# Numerical\n",
    "tolerance = 1e-7\n",
    "randomseed = 2\n",
    "solver = 'valueiter'\n",
    "\n",
    "# Plot specs\n",
    "fontsizes = 10\n",
    "fontsizes_ticks = fontsizes-1\n",
    "x_cm = 8\n",
    "y_cm = 5\n",
    "\n",
    "savefig = True"
   ]
  },
  {
   "cell_type": "code",
   "execution_count": 28,
   "id": "7b6d4a3e",
   "metadata": {
    "scrolled": false
   },
   "outputs": [],
   "source": [
    "## CALCULATE DATA ##\n",
    "imp.reload(main)\n",
    "\n",
    "T_diff_array = []\n",
    "\n",
    "for idx1, n in enumerate(n_array):\n",
    "    T_diff_array += [[]]\n",
    "    for p in p_array:\n",
    "        # Optimal policy\n",
    "        if solver == 'valueiter':\n",
    "            try:\n",
    "                data = main.load_valueiter_data(n, p, p_s, cutoff, tolerance, randomseed)\n",
    "                T_opt = data['values'][0]\n",
    "            except: # If data does not exist\n",
    "                T_opt = None\n",
    "        elif solver == 'policyiter':\n",
    "            try:\n",
    "                _, state_info, _ = main.load_policyiter_data(n, p, p_s, cutoff, tolerance)\n",
    "                T_opt = -(state_info[0]['value']+1)\n",
    "            except: # If data does not exist\n",
    "                T_opt = None\n",
    "        else:\n",
    "            raise ValueError('Unknown solver')\n",
    "\n",
    "        # Swap-asap policy\n",
    "        try:\n",
    "            _, state_info, _ = main.load_swapasap_data(n, p, p_s, cutoff, tolerance)\n",
    "            T_swap = -(state_info[0]['value']+1)\n",
    "        except: # If data does not exist\n",
    "            T_swap = None\n",
    "\n",
    "        if T_swap!=None and T_opt!=None:\n",
    "            T_diff_array[idx1] += [(T_swap-T_opt) / T_opt * 100]\n",
    "        else: # If data does not exist\n",
    "            T_diff_array[idx1] += [None]"
   ]
  },
  {
   "cell_type": "code",
   "execution_count": 29,
   "id": "6983054f",
   "metadata": {},
   "outputs": [
    {
     "data": {
      "image/png": "[encoded data removed]",
      "text/plain": [
       "<Figure size 314.961x196.85 with 1 Axes>"
      ]
     },
     "metadata": {
      "needs_background": "light"
     },
     "output_type": "display_data"
    }
   ],
   "source": [
    "## PLOT ##\n",
    "fig, ax = plt.subplots(figsize=(x_cm/2.54, y_cm/2.54))\n",
    "\n",
    "cmap = plt.cm.get_cmap('Greys')\n",
    "colors = [cmap(i) for i in np.linspace(0.3,1,3)]\n",
    "\n",
    "for idx1, n in enumerate(n_array):\n",
    "    plt.plot(p_array, T_diff_array[idx1], label=r'$n=%s$'%(n),\n",
    "             color=colors[idx1])\n",
    "\n",
    "\n",
    "plt.xlabel(r'$p$', fontsize=fontsizes)\n",
    "plt.ylabel(r'$\\frac{T_\\mathrm{swap}-T_\\mathrm{opt}}{T_\\mathrm{opt}}$', fontsize=fontsizes)\n",
    "\n",
    "yticks = [0,10,20,30]\n",
    "plt.ylim(yticks[0], yticks[-1])\n",
    "plt.xlim(0.3,0.9)\n",
    "\n",
    "ax.set_yticks(yticks)\n",
    "ax.set_yticklabels([r'${:.0f}\\%$'.format(i) for i in yticks])\n",
    "ax.tick_params(labelsize=fontsizes_ticks)\n",
    "\n",
    "plt.legend(loc='upper left')\n",
    "\n",
    "if savefig:\n",
    "    filename = ('MANUSCRIPT_figs/advantageVSp_ps%s_tcut%d_'+\n",
    "                'randseed%d.pdf')%(p_s, cutoff, randomseed)\n",
    "    plt.savefig(filename, dpi=300, bbox_inches='tight')\n",
    "else:\n",
    "    print('p_s = %s'%p_s)\n",
    "    plt.show()"
   ]
  }
 ],
 "metadata": {
  "kernelspec": {
   "display_name": "Python 3",
   "language": "python",
   "name": "python3"
  },
  "language_info": {
   "codemirror_mode": {
    "name": "ipython",
    "version": 3
   },
   "file_extension": ".py",
   "mimetype": "text/x-python",
   "name": "python",
   "nbconvert_exporter": "python",
   "pygments_lexer": "ipython3",
   "version": "3.8.8"
  }
 },
 "nbformat": 4,
 "nbformat_minor": 5
}
